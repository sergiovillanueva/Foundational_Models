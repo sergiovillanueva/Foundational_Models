{
 "cells": [
  {
   "cell_type": "markdown",
   "id": "e207256d",
   "metadata": {},
   "source": [
    "Object Detection"
   ]
  },
  {
   "cell_type": "code",
   "execution_count": null,
   "id": "409d285d",
   "metadata": {},
   "outputs": [],
   "source": [
    "import torch"
   ]
  },
  {
   "cell_type": "markdown",
   "id": "a76eec1f",
   "metadata": {},
   "source": []
  }
 ],
 "metadata": {
  "language_info": {
   "name": "python"
  }
 },
 "nbformat": 4,
 "nbformat_minor": 5
}
